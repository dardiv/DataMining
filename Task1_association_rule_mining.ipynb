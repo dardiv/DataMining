{
 "cells": [
  {
   "cell_type": "markdown",
   "metadata": {},
   "source": [
    "# Association rule mining"
   ]
  },
  {
   "cell_type": "code",
   "execution_count": 1,
   "metadata": {},
   "outputs": [],
   "source": [
    "import numpy as np\n",
    "import pandas as pd\n",
    "from mlxtend.frequent_patterns import apriori, association_rules"
   ]
  },
  {
   "cell_type": "markdown",
   "metadata": {},
   "source": [
    "### Mlxtend (machine learning extensions) \n",
    "\n",
    "Python library of useful tools for the day-to-day data science tasks.\n",
    "\n",
    "http://rasbt.github.io/mlxtend/api_subpackages/mlxtend.frequent_patterns/"
   ]
  },
  {
   "cell_type": "markdown",
   "metadata": {},
   "source": [
    "### Load data"
   ]
  },
  {
   "cell_type": "code",
   "execution_count": 2,
   "metadata": {},
   "outputs": [],
   "source": [
    "data = pd.read_csv(\"supermarket_short.csv\")"
   ]
  },
  {
   "cell_type": "markdown",
   "metadata": {},
   "source": [
    "### Find frequent itemsets and rules"
   ]
  },
  {
   "cell_type": "code",
   "execution_count": 3,
   "metadata": {},
   "outputs": [],
   "source": [
    "frequent_itemsets = apriori(data, min_support=0.1, use_colnames=True)\n",
    "\n",
    "rules = association_rules(frequent_itemsets, metric=\"confidence\", min_threshold=0.4)"
   ]
  },
  {
   "cell_type": "markdown",
   "metadata": {},
   "source": [
    "### Add antecedent lenght column"
   ]
  },
  {
   "cell_type": "code",
   "execution_count": 4,
   "metadata": {},
   "outputs": [],
   "source": [
    "rules['antecedent_len'] = rules['antecedents'].apply(lambda x: len(x))"
   ]
  },
  {
   "cell_type": "markdown",
   "metadata": {},
   "source": [
    "### Filter rules"
   ]
  },
  {
   "cell_type": "code",
   "execution_count": 5,
   "metadata": {},
   "outputs": [
    {
     "data": {
      "text/html": [
       "<div>\n",
       "<style scoped>\n",
       "    .dataframe tbody tr th:only-of-type {\n",
       "        vertical-align: middle;\n",
       "    }\n",
       "\n",
       "    .dataframe tbody tr th {\n",
       "        vertical-align: top;\n",
       "    }\n",
       "\n",
       "    .dataframe thead th {\n",
       "        text-align: right;\n",
       "    }\n",
       "</style>\n",
       "<table border=\"1\" class=\"dataframe\">\n",
       "  <thead>\n",
       "    <tr style=\"text-align: right;\">\n",
       "      <th></th>\n",
       "      <th>antecedents</th>\n",
       "      <th>consequents</th>\n",
       "      <th>antecedent support</th>\n",
       "      <th>consequent support</th>\n",
       "      <th>support</th>\n",
       "      <th>confidence</th>\n",
       "      <th>lift</th>\n",
       "      <th>leverage</th>\n",
       "      <th>conviction</th>\n",
       "      <th>antecedent_len</th>\n",
       "    </tr>\n",
       "  </thead>\n",
       "  <tbody>\n",
       "    <tr>\n",
       "      <th>3</th>\n",
       "      <td>(juice-sat-cord-ms)</td>\n",
       "      <td>(bread and cake)</td>\n",
       "      <td>0.532310</td>\n",
       "      <td>0.719689</td>\n",
       "      <td>0.403933</td>\n",
       "      <td>0.758831</td>\n",
       "      <td>1.054387</td>\n",
       "      <td>0.020836</td>\n",
       "      <td>1.162301</td>\n",
       "      <td>1</td>\n",
       "    </tr>\n",
       "    <tr>\n",
       "      <th>432</th>\n",
       "      <td>(frozen foods)</td>\n",
       "      <td>(vegetables)</td>\n",
       "      <td>0.587206</td>\n",
       "      <td>0.639939</td>\n",
       "      <td>0.406743</td>\n",
       "      <td>0.692676</td>\n",
       "      <td>1.082408</td>\n",
       "      <td>0.030967</td>\n",
       "      <td>1.171598</td>\n",
       "      <td>1</td>\n",
       "    </tr>\n",
       "    <tr>\n",
       "      <th>428</th>\n",
       "      <td>(frozen foods)</td>\n",
       "      <td>(fruit)</td>\n",
       "      <td>0.587206</td>\n",
       "      <td>0.640156</td>\n",
       "      <td>0.402204</td>\n",
       "      <td>0.684947</td>\n",
       "      <td>1.069969</td>\n",
       "      <td>0.026302</td>\n",
       "      <td>1.142170</td>\n",
       "      <td>1</td>\n",
       "    </tr>\n",
       "  </tbody>\n",
       "</table>\n",
       "</div>"
      ],
      "text/plain": [
       "             antecedents       consequents  antecedent support  \\\n",
       "3    (juice-sat-cord-ms)  (bread and cake)            0.532310   \n",
       "432       (frozen foods)      (vegetables)            0.587206   \n",
       "428       (frozen foods)           (fruit)            0.587206   \n",
       "\n",
       "     consequent support   support  confidence      lift  leverage  conviction  \\\n",
       "3              0.719689  0.403933    0.758831  1.054387  0.020836    1.162301   \n",
       "432            0.639939  0.406743    0.692676  1.082408  0.030967    1.171598   \n",
       "428            0.640156  0.402204    0.684947  1.069969  0.026302    1.142170   \n",
       "\n",
       "     antecedent_len  \n",
       "3                 1  \n",
       "432               1  \n",
       "428               1  "
      ]
     },
     "execution_count": 5,
     "metadata": {},
     "output_type": "execute_result"
    }
   ],
   "source": [
    "rules[ (rules['antecedent_len'] >= 1) &\n",
    "       (rules['confidence'] > 0.65) &\n",
    "      (rules['support'] < 0.41) & (rules['support'] > 0.4) ].sort_values(by=['confidence'],ascending=False)"
   ]
  },
  {
   "cell_type": "code",
   "execution_count": null,
   "metadata": {},
   "outputs": [],
   "source": []
  }
 ],
 "metadata": {
  "kernelspec": {
   "display_name": "Python 3",
   "language": "python",
   "name": "python3"
  },
  "language_info": {
   "codemirror_mode": {
    "name": "ipython",
    "version": 3
   },
   "file_extension": ".py",
   "mimetype": "text/x-python",
   "name": "python",
   "nbconvert_exporter": "python",
   "pygments_lexer": "ipython3",
   "version": "3.7.3"
  }
 },
 "nbformat": 4,
 "nbformat_minor": 2
}
